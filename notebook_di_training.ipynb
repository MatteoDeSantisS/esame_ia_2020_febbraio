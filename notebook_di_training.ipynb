{
 "cells": [
  {
   "cell_type": "code",
   "execution_count": 598,
   "metadata": {},
   "outputs": [],
   "source": [
    "import pandas as pd\n",
    "import sklearn as sk\n",
    "\n",
    "from sklearn.model_selection import train_test_split\n",
    "from sklearn.preprocessing import MinMaxScaler\n",
    "from sklearn.metrics import accuracy_score\n",
    "from sklearn.impute import SimpleImputer\n",
    "from sklearn.compose import ColumnTransformer\n",
    "from sklearn.svm import LinearSVC"
   ]
  },
  {
   "cell_type": "code",
   "execution_count": 573,
   "metadata": {},
   "outputs": [],
   "source": [
    "data_set_train=pd.DataFrame(pd.read_csv(\"train.csv\"))\n",
    "data_set_test=pd.DataFrame(pd.read_csv(\"test.csv\"))\n"
   ]
  },
  {
   "cell_type": "markdown",
   "metadata": {},
   "source": [
    "# transformo i valori nelle colonne status,gender e workex in 0 e 1"
   ]
  },
  {
   "cell_type": "code",
   "execution_count": 574,
   "metadata": {},
   "outputs": [],
   "source": [
    "data_set_train['status']=pd.Categorical( data_set_train[\"status\"]).codes\n",
    "data_set_train['gender']=pd.Categorical( data_set_train[\"gender\"]).codes\n",
    "data_set_train['workex']=pd.Categorical( data_set_train[\"workex\"]).codes\n",
    "\n",
    "data_set_test['status']=pd.Categorical( data_set_test[\"status\"]).codes\n",
    "data_set_test['gender']=pd.Categorical( data_set_test[\"gender\"]).codes\n",
    "data_set_test['workex']=pd.Categorical( data_set_test[\"workex\"]).codes"
   ]
  },
  {
   "cell_type": "markdown",
   "metadata": {},
   "source": [
    "# transformo i valori di queste colonne tramite il OneHot-encoding"
   ]
  },
  {
   "cell_type": "code",
   "execution_count": 575,
   "metadata": {},
   "outputs": [],
   "source": [
    "data_set_train=pd.get_dummies(data_set_train,columns=['ssc_b','hsc_b','hsc_s','degree_t','specialisation'])\n",
    "data_set_test=pd.get_dummies(data_set_test,columns=['ssc_b','hsc_b','hsc_s','degree_t','specialisation'])\n",
    " \n"
   ]
  },
  {
   "cell_type": "code",
   "execution_count": 576,
   "metadata": {},
   "outputs": [],
   "source": [
    "for col in data_set_train.columns:\n",
    "    if (col in data_set_test.columns)==False:\n",
    "        data_set_test[col]=0\n",
    "        "
   ]
  },
  {
   "cell_type": "markdown",
   "metadata": {},
   "source": [
    "# Nel dataset ci sono dei valori mancanti, sostituisco questi valori mancanti inserendo la media della colonna"
   ]
  },
  {
   "cell_type": "code",
   "execution_count": 577,
   "metadata": {},
   "outputs": [],
   "source": [
    "data_train_replace_with=data_set_train.mean()\n",
    "data_set_train=data_set_train.fillna(data_train_replace_with)\n",
    "data_test_replace_with=data_set_test.mean()\n",
    "data_set_test=data_set_test.fillna(data_test_replace_with)\n",
    "\n",
    "\n"
   ]
  },
  {
   "cell_type": "code",
   "execution_count": 578,
   "metadata": {},
   "outputs": [],
   "source": [
    "data_set_train=data_set_train.reindex(sorted(data_set_train.columns), axis=1)\n",
    "data_set_test=data_set_test.reindex(sorted(data_set_test.columns), axis=1)"
   ]
  },
  {
   "cell_type": "markdown",
   "metadata": {},
   "source": [
    "# Uso il columnTranformer con MinMaxScaler per scalare le feature tra 0 e 1\n"
   ]
  },
  {
   "cell_type": "code",
   "execution_count": 579,
   "metadata": {},
   "outputs": [
    {
     "data": {
      "text/html": [
       "<div>\n",
       "<style scoped>\n",
       "    .dataframe tbody tr th:only-of-type {\n",
       "        vertical-align: middle;\n",
       "    }\n",
       "\n",
       "    .dataframe tbody tr th {\n",
       "        vertical-align: top;\n",
       "    }\n",
       "\n",
       "    .dataframe thead th {\n",
       "        text-align: right;\n",
       "    }\n",
       "</style>\n",
       "<table border=\"1\" class=\"dataframe\">\n",
       "  <thead>\n",
       "    <tr style=\"text-align: right;\">\n",
       "      <th></th>\n",
       "      <th>degree_p</th>\n",
       "      <th>degree_t_Comm&amp;Mgmt</th>\n",
       "      <th>degree_t_Others</th>\n",
       "      <th>degree_t_Sci&amp;Tech</th>\n",
       "      <th>etest_p</th>\n",
       "      <th>gender</th>\n",
       "      <th>hsc_b_Central</th>\n",
       "      <th>hsc_b_Others</th>\n",
       "      <th>hsc_p</th>\n",
       "      <th>hsc_s_Arts</th>\n",
       "      <th>...</th>\n",
       "      <th>hsc_s_Science</th>\n",
       "      <th>mba_p</th>\n",
       "      <th>salary</th>\n",
       "      <th>specialisation_Mkt&amp;Fin</th>\n",
       "      <th>specialisation_Mkt&amp;HR</th>\n",
       "      <th>ssc_b_Central</th>\n",
       "      <th>ssc_b_Others</th>\n",
       "      <th>ssc_p</th>\n",
       "      <th>status</th>\n",
       "      <th>workex</th>\n",
       "    </tr>\n",
       "  </thead>\n",
       "  <tbody>\n",
       "    <tr>\n",
       "      <th>count</th>\n",
       "      <td>129.000000</td>\n",
       "      <td>129.000000</td>\n",
       "      <td>129.000000</td>\n",
       "      <td>129.000000</td>\n",
       "      <td>129.000000</td>\n",
       "      <td>129.000000</td>\n",
       "      <td>129.000000</td>\n",
       "      <td>129.000000</td>\n",
       "      <td>129.000000</td>\n",
       "      <td>129.000000</td>\n",
       "      <td>...</td>\n",
       "      <td>129.000000</td>\n",
       "      <td>129.000000</td>\n",
       "      <td>129.000000</td>\n",
       "      <td>129.000000</td>\n",
       "      <td>129.000000</td>\n",
       "      <td>129.000000</td>\n",
       "      <td>129.000000</td>\n",
       "      <td>129.000000</td>\n",
       "      <td>129.000000</td>\n",
       "      <td>129.000000</td>\n",
       "    </tr>\n",
       "    <tr>\n",
       "      <th>mean</th>\n",
       "      <td>65.405194</td>\n",
       "      <td>0.635659</td>\n",
       "      <td>0.069767</td>\n",
       "      <td>0.294574</td>\n",
       "      <td>70.653721</td>\n",
       "      <td>0.635659</td>\n",
       "      <td>0.348837</td>\n",
       "      <td>0.651163</td>\n",
       "      <td>65.118295</td>\n",
       "      <td>0.085271</td>\n",
       "      <td>...</td>\n",
       "      <td>0.426357</td>\n",
       "      <td>62.047209</td>\n",
       "      <td>284512.195122</td>\n",
       "      <td>0.550388</td>\n",
       "      <td>0.449612</td>\n",
       "      <td>0.519380</td>\n",
       "      <td>0.480620</td>\n",
       "      <td>65.927054</td>\n",
       "      <td>0.635659</td>\n",
       "      <td>0.302326</td>\n",
       "    </tr>\n",
       "    <tr>\n",
       "      <th>std</th>\n",
       "      <td>7.620323</td>\n",
       "      <td>0.483121</td>\n",
       "      <td>0.255748</td>\n",
       "      <td>0.457628</td>\n",
       "      <td>12.842482</td>\n",
       "      <td>0.483121</td>\n",
       "      <td>0.478460</td>\n",
       "      <td>0.478460</td>\n",
       "      <td>11.634924</td>\n",
       "      <td>0.280374</td>\n",
       "      <td>...</td>\n",
       "      <td>0.496475</td>\n",
       "      <td>5.881485</td>\n",
       "      <td>60800.421964</td>\n",
       "      <td>0.499394</td>\n",
       "      <td>0.499394</td>\n",
       "      <td>0.501572</td>\n",
       "      <td>0.501572</td>\n",
       "      <td>10.545716</td>\n",
       "      <td>0.483121</td>\n",
       "      <td>0.461056</td>\n",
       "    </tr>\n",
       "    <tr>\n",
       "      <th>min</th>\n",
       "      <td>50.000000</td>\n",
       "      <td>0.000000</td>\n",
       "      <td>0.000000</td>\n",
       "      <td>0.000000</td>\n",
       "      <td>50.000000</td>\n",
       "      <td>0.000000</td>\n",
       "      <td>0.000000</td>\n",
       "      <td>0.000000</td>\n",
       "      <td>37.000000</td>\n",
       "      <td>0.000000</td>\n",
       "      <td>...</td>\n",
       "      <td>0.000000</td>\n",
       "      <td>51.210000</td>\n",
       "      <td>200000.000000</td>\n",
       "      <td>0.000000</td>\n",
       "      <td>0.000000</td>\n",
       "      <td>0.000000</td>\n",
       "      <td>0.000000</td>\n",
       "      <td>40.890000</td>\n",
       "      <td>0.000000</td>\n",
       "      <td>0.000000</td>\n",
       "    </tr>\n",
       "    <tr>\n",
       "      <th>25%</th>\n",
       "      <td>60.000000</td>\n",
       "      <td>0.000000</td>\n",
       "      <td>0.000000</td>\n",
       "      <td>0.000000</td>\n",
       "      <td>60.000000</td>\n",
       "      <td>0.000000</td>\n",
       "      <td>0.000000</td>\n",
       "      <td>0.000000</td>\n",
       "      <td>60.000000</td>\n",
       "      <td>0.000000</td>\n",
       "      <td>...</td>\n",
       "      <td>0.000000</td>\n",
       "      <td>57.690000</td>\n",
       "      <td>250000.000000</td>\n",
       "      <td>0.000000</td>\n",
       "      <td>0.000000</td>\n",
       "      <td>0.000000</td>\n",
       "      <td>0.000000</td>\n",
       "      <td>59.960000</td>\n",
       "      <td>0.000000</td>\n",
       "      <td>0.000000</td>\n",
       "    </tr>\n",
       "    <tr>\n",
       "      <th>50%</th>\n",
       "      <td>65.000000</td>\n",
       "      <td>1.000000</td>\n",
       "      <td>0.000000</td>\n",
       "      <td>0.000000</td>\n",
       "      <td>68.000000</td>\n",
       "      <td>1.000000</td>\n",
       "      <td>0.000000</td>\n",
       "      <td>1.000000</td>\n",
       "      <td>64.000000</td>\n",
       "      <td>0.000000</td>\n",
       "      <td>...</td>\n",
       "      <td>0.000000</td>\n",
       "      <td>61.580000</td>\n",
       "      <td>284512.195122</td>\n",
       "      <td>1.000000</td>\n",
       "      <td>0.000000</td>\n",
       "      <td>1.000000</td>\n",
       "      <td>0.000000</td>\n",
       "      <td>66.000000</td>\n",
       "      <td>1.000000</td>\n",
       "      <td>0.000000</td>\n",
       "    </tr>\n",
       "    <tr>\n",
       "      <th>75%</th>\n",
       "      <td>70.000000</td>\n",
       "      <td>1.000000</td>\n",
       "      <td>0.000000</td>\n",
       "      <td>1.000000</td>\n",
       "      <td>80.000000</td>\n",
       "      <td>1.000000</td>\n",
       "      <td>1.000000</td>\n",
       "      <td>1.000000</td>\n",
       "      <td>70.400000</td>\n",
       "      <td>0.000000</td>\n",
       "      <td>...</td>\n",
       "      <td>1.000000</td>\n",
       "      <td>65.690000</td>\n",
       "      <td>284512.195122</td>\n",
       "      <td>1.000000</td>\n",
       "      <td>1.000000</td>\n",
       "      <td>1.000000</td>\n",
       "      <td>1.000000</td>\n",
       "      <td>74.000000</td>\n",
       "      <td>1.000000</td>\n",
       "      <td>1.000000</td>\n",
       "    </tr>\n",
       "    <tr>\n",
       "      <th>max</th>\n",
       "      <td>91.000000</td>\n",
       "      <td>1.000000</td>\n",
       "      <td>1.000000</td>\n",
       "      <td>1.000000</td>\n",
       "      <td>98.000000</td>\n",
       "      <td>1.000000</td>\n",
       "      <td>1.000000</td>\n",
       "      <td>1.000000</td>\n",
       "      <td>97.700000</td>\n",
       "      <td>1.000000</td>\n",
       "      <td>...</td>\n",
       "      <td>1.000000</td>\n",
       "      <td>77.890000</td>\n",
       "      <td>650000.000000</td>\n",
       "      <td>1.000000</td>\n",
       "      <td>1.000000</td>\n",
       "      <td>1.000000</td>\n",
       "      <td>1.000000</td>\n",
       "      <td>87.000000</td>\n",
       "      <td>1.000000</td>\n",
       "      <td>1.000000</td>\n",
       "    </tr>\n",
       "  </tbody>\n",
       "</table>\n",
       "<p>8 rows × 21 columns</p>\n",
       "</div>"
      ],
      "text/plain": [
       "         degree_p  degree_t_Comm&Mgmt  degree_t_Others  degree_t_Sci&Tech  \\\n",
       "count  129.000000          129.000000       129.000000         129.000000   \n",
       "mean    65.405194            0.635659         0.069767           0.294574   \n",
       "std      7.620323            0.483121         0.255748           0.457628   \n",
       "min     50.000000            0.000000         0.000000           0.000000   \n",
       "25%     60.000000            0.000000         0.000000           0.000000   \n",
       "50%     65.000000            1.000000         0.000000           0.000000   \n",
       "75%     70.000000            1.000000         0.000000           1.000000   \n",
       "max     91.000000            1.000000         1.000000           1.000000   \n",
       "\n",
       "          etest_p      gender  hsc_b_Central  hsc_b_Others       hsc_p  \\\n",
       "count  129.000000  129.000000     129.000000    129.000000  129.000000   \n",
       "mean    70.653721    0.635659       0.348837      0.651163   65.118295   \n",
       "std     12.842482    0.483121       0.478460      0.478460   11.634924   \n",
       "min     50.000000    0.000000       0.000000      0.000000   37.000000   \n",
       "25%     60.000000    0.000000       0.000000      0.000000   60.000000   \n",
       "50%     68.000000    1.000000       0.000000      1.000000   64.000000   \n",
       "75%     80.000000    1.000000       1.000000      1.000000   70.400000   \n",
       "max     98.000000    1.000000       1.000000      1.000000   97.700000   \n",
       "\n",
       "       hsc_s_Arts  ...  hsc_s_Science       mba_p         salary  \\\n",
       "count  129.000000  ...     129.000000  129.000000     129.000000   \n",
       "mean     0.085271  ...       0.426357   62.047209  284512.195122   \n",
       "std      0.280374  ...       0.496475    5.881485   60800.421964   \n",
       "min      0.000000  ...       0.000000   51.210000  200000.000000   \n",
       "25%      0.000000  ...       0.000000   57.690000  250000.000000   \n",
       "50%      0.000000  ...       0.000000   61.580000  284512.195122   \n",
       "75%      0.000000  ...       1.000000   65.690000  284512.195122   \n",
       "max      1.000000  ...       1.000000   77.890000  650000.000000   \n",
       "\n",
       "       specialisation_Mkt&Fin  specialisation_Mkt&HR  ssc_b_Central  \\\n",
       "count              129.000000             129.000000     129.000000   \n",
       "mean                 0.550388               0.449612       0.519380   \n",
       "std                  0.499394               0.499394       0.501572   \n",
       "min                  0.000000               0.000000       0.000000   \n",
       "25%                  0.000000               0.000000       0.000000   \n",
       "50%                  1.000000               0.000000       1.000000   \n",
       "75%                  1.000000               1.000000       1.000000   \n",
       "max                  1.000000               1.000000       1.000000   \n",
       "\n",
       "       ssc_b_Others       ssc_p      status      workex  \n",
       "count    129.000000  129.000000  129.000000  129.000000  \n",
       "mean       0.480620   65.927054    0.635659    0.302326  \n",
       "std        0.501572   10.545716    0.483121    0.461056  \n",
       "min        0.000000   40.890000    0.000000    0.000000  \n",
       "25%        0.000000   59.960000    0.000000    0.000000  \n",
       "50%        0.000000   66.000000    1.000000    0.000000  \n",
       "75%        1.000000   74.000000    1.000000    1.000000  \n",
       "max        1.000000   87.000000    1.000000    1.000000  \n",
       "\n",
       "[8 rows x 21 columns]"
      ]
     },
     "execution_count": 579,
     "metadata": {},
     "output_type": "execute_result"
    }
   ],
   "source": [
    "data_set_train.describe()"
   ]
  },
  {
   "cell_type": "raw",
   "metadata": {},
   "source": [
    "analizzando il datzaset, nelle colonne ['ssc_p','hsc_p','degree_p','etest_p','mba_p','salary'] abbiamo dei valori che sono molto più grandi, quindi l'algortmo di apprendimento potrebbe dare più importanza alle colonne con range di valori più ampi.\n",
    "Utilizzo il metodo MinMaxScaler per portare questi valori in un range tra 0 e 1.\n",
    "Se i dati non vengono portati tutti sulla stessa scala le prestazioni del modello addestrato peggiorano sensibilmente"
   ]
  },
  {
   "cell_type": "code",
   "execution_count": 580,
   "metadata": {},
   "outputs": [],
   "source": [
    "\n",
    "transform=[\n",
    "    ['min_max_scaler',MinMaxScaler(),['ssc_p','hsc_p','degree_p','etest_p','mba_p','salary']]\n",
    "]"
   ]
  },
  {
   "cell_type": "code",
   "execution_count": 581,
   "metadata": {},
   "outputs": [],
   "source": [
    "colum_transf_min_max=ColumnTransformer(transform,remainder='passthrough')"
   ]
  },
  {
   "cell_type": "code",
   "execution_count": 582,
   "metadata": {},
   "outputs": [],
   "source": [
    "data_set_train=pd.DataFrame(colum_transf_min_max.fit_transform(data_set_train))\n",
    "data_set_test=pd.DataFrame(colum_transf_min_max.fit_transform(data_set_test))\n"
   ]
  },
  {
   "cell_type": "markdown",
   "metadata": {},
   "source": [
    "# Aggiungo i nomi alle colonne "
   ]
  },
  {
   "cell_type": "code",
   "execution_count": 583,
   "metadata": {},
   "outputs": [],
   "source": [
    "data_set_train.columns=['ssc_p','hsc_p','degree_p','etest_p','mba_p','salary','degree_t_Comm&Mgmt',\n",
    " 'degree_t_Others',\n",
    " 'degree_t_Sci&Tech',\n",
    " 'gender',\n",
    " 'hsc_b_Central',\n",
    " 'hsc_b_Others',\n",
    " 'hsc_s_Arts',\n",
    " 'hsc_s_Commerce',\n",
    " 'hsc_s_Science',\n",
    " 'specialisation_Mkt&Fin',\n",
    " 'specialisation_Mkt&HR',\n",
    " 'ssc_b_Central',\n",
    " 'ssc_b_Others',\n",
    " 'status',\n",
    " 'workex']\n",
    "data_set_test.columns=['ssc_p','hsc_p','degree_p','etest_p','mba_p','salary','degree_t_Comm&Mgmt',\n",
    " 'degree_t_Others',\n",
    " 'degree_t_Sci&Tech',\n",
    " 'gender',\n",
    " 'hsc_b_Central',\n",
    " 'hsc_b_Others',\n",
    " 'hsc_s_Arts',\n",
    " 'hsc_s_Commerce',\n",
    " 'hsc_s_Science',\n",
    " 'specialisation_Mkt&Fin',\n",
    " 'specialisation_Mkt&HR',\n",
    " 'ssc_b_Central',\n",
    " 'ssc_b_Others',\n",
    " 'status',\n",
    " 'workex']\n"
   ]
  },
  {
   "cell_type": "markdown",
   "metadata": {},
   "source": [
    "# elimino la colonna Target"
   ]
  },
  {
   "cell_type": "code",
   "execution_count": 584,
   "metadata": {},
   "outputs": [],
   "source": [
    "Y_train=pd.DataFrame(data_set_train[\"status\"])\n",
    "Y_test=pd.DataFrame(data_set_test[\"status\"])\n"
   ]
  },
  {
   "cell_type": "code",
   "execution_count": 585,
   "metadata": {},
   "outputs": [],
   "source": [
    "data_set_train=data_set_train.drop(['status'],axis=1)\n",
    "data_set_test=data_set_test.drop(['status'],axis=1)"
   ]
  },
  {
   "cell_type": "markdown",
   "metadata": {},
   "source": [
    "# Addestro il modello"
   ]
  },
  {
   "cell_type": "raw",
   "metadata": {},
   "source": [
    "pCome modello ho usato una Support Vector Machine lineare,ho studiato le svm nel corso di machine learning.\n",
    "SVM nasce come classificatore binario,date due classi di pattern multidimensionali linearmente separabili,\n",
    "tra tutti i possibili iperpiani di separazione, SVM determina quello in\n",
    "grado di separare le classi con il maggior margine possibile.\n",
    "Il margine è la distanza minima di punti delle due classi nel training\n",
    "set dall’iperpiano individuato."
   ]
  },
  {
   "cell_type": "code",
   "execution_count": 604,
   "metadata": {},
   "outputs": [],
   "source": [
    "svm=LinearSVC()"
   ]
  },
  {
   "cell_type": "code",
   "execution_count": 605,
   "metadata": {},
   "outputs": [
    {
     "data": {
      "text/plain": [
       "LinearSVC()"
      ]
     },
     "execution_count": 605,
     "metadata": {},
     "output_type": "execute_result"
    }
   ],
   "source": [
    "svm.fit(data_set_train,Y_train.values.ravel())"
   ]
  },
  {
   "cell_type": "code",
   "execution_count": 606,
   "metadata": {},
   "outputs": [],
   "source": [
    "predictTest=svm.predict(data_set_test)\n",
    "predictTrain=svm.predict(data_set_train)"
   ]
  },
  {
   "cell_type": "code",
   "execution_count": 607,
   "metadata": {},
   "outputs": [],
   "source": [
    "accuracy_test=accuracy_score(predictTest,Y_test)\n",
    "accuracy_train=accuracy_score(predictTrain,Y_train)"
   ]
  },
  {
   "cell_type": "code",
   "execution_count": 608,
   "metadata": {
    "scrolled": true
   },
   "outputs": [
    {
     "name": "stdout",
     "output_type": "stream",
     "text": [
      "0.8914728682170543, 0.9069767441860465\n"
     ]
    }
   ],
   "source": [
    "print (f'{accuracy_train}, {accuracy_test}' )"
   ]
  },
  {
   "cell_type": "code",
   "execution_count": null,
   "metadata": {},
   "outputs": [],
   "source": []
  },
  {
   "cell_type": "code",
   "execution_count": null,
   "metadata": {},
   "outputs": [],
   "source": []
  }
 ],
 "metadata": {
  "kernelspec": {
   "display_name": "Python 3",
   "language": "python",
   "name": "python3"
  },
  "language_info": {
   "codemirror_mode": {
    "name": "ipython",
    "version": 3
   },
   "file_extension": ".py",
   "mimetype": "text/x-python",
   "name": "python",
   "nbconvert_exporter": "python",
   "pygments_lexer": "ipython3",
   "version": "3.8.5"
  }
 },
 "nbformat": 4,
 "nbformat_minor": 4
}
